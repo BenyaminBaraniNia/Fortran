{
 "cells": [
  {
   "cell_type": "markdown",
   "metadata": {},
   "source": [
    "### Hello World Program"
   ]
  },
  {
   "cell_type": "code",
   "execution_count": null,
   "metadata": {
    "vscode": {
     "languageId": "plaintext"
    }
   },
   "outputs": [],
   "source": [
    "program hello\n",
    "    implicit none\n",
    "    print *, 'Hello World!'\n",
    "end program hello"
   ]
  },
  {
   "cell_type": "markdown",
   "metadata": {},
   "source": [
    "program hello\n",
    "    implicit none\n",
    "    print *, 'Hello World!'\n",
    "end program hello"
   ]
  }
 ],
 "metadata": {
  "language_info": {
   "name": "python"
  }
 },
 "nbformat": 4,
 "nbformat_minor": 2
}
