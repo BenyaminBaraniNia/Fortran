{
 "cells": [
  {
   "cell_type": "markdown",
   "metadata": {},
   "source": [
    "**🖥️ Problem 1:** Hello World\n",
    "\n",
    "**📋 Description:** Write a program to print \"Hello, World!\" to the screen."
   ]
  },
  {
   "cell_type": "markdown",
   "metadata": {},
   "source": [
    "**💡 Solution**\n",
    "```Fortran\n",
    "program HelloWorld\n",
    "  print *, 'Hello, World!'\n",
    "end program HelloWorld\n",
    "```"
   ]
  }
 ],
 "metadata": {
  "language_info": {
   "name": "python"
  }
 },
 "nbformat": 4,
 "nbformat_minor": 2
}
