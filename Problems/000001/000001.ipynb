{
 "cells": [
  {
   "cell_type": "markdown",
   "metadata": {},
   "source": [
    "**🖥️ Problem 1: Hello World** \n",
    "\n",
    "**📋 Description:** Write a program to print \"Hello, World!\" to the screen.\n",
    "\n",
    "**💡 Solution**\n",
    "```Fortran\n",
    "program HelloWorld\n",
    "  print *, 'Hello, World!'\n",
    "end program HelloWorld\n",
    "```"
   ]
  }
 ],
 "metadata": {
  "language_info": {
   "name": "python"
  }
 },
 "nbformat": 4,
 "nbformat_minor": 2
}
