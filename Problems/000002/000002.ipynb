{
 "cells": [
  {
   "cell_type": "markdown",
   "metadata": {},
   "source": [
    "**🖥️ Problem 2: Sum of Two Numbers** \n",
    "\n",
    "**📋 Description:** Write a program to read two integers and print their sum.\n",
    "\n",
    "**💡 Solution**\n",
    "```Fortran\n",
    "program SumTwoNumbers\n",
    "  implicit none\n",
    "  integer :: a, b, sum\n",
    "  print *, 'Enter two integers:'\n",
    "  read *, a, b\n",
    "  sum = a + b\n",
    "  print *, 'Sum = ', sum\n",
    "end program SumTwoNumbers\n",
    "```"
   ]
  }
 ],
 "metadata": {
  "language_info": {
   "name": "python"
  }
 },
 "nbformat": 4,
 "nbformat_minor": 2
}
