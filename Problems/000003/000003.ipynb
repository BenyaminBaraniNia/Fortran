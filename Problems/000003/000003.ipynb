{
 "cells": [
  {
   "cell_type": "markdown",
   "metadata": {},
   "source": [
    "**🖥️ Problem 3: Area of a Circle** \n",
    "\n",
    "**📋 Description:** Write a program to calculate the area of a circle given its radius.\n",
    "\n",
    "**💡 Solution**\n",
    "```Fortran\n",
    "program AreaCircle\n",
    "  implicit none\n",
    "  real :: radius, area\n",
    "  print *, 'Enter the radius of the circle:'\n",
    "  read *, radius\n",
    "  area = 3.14159 * radius * radius\n",
    "  print *, 'Area of the circle = ', area\n",
    "end program AreaCircle\n",
    "```"
   ]
  }
 ],
 "metadata": {
  "language_info": {
   "name": "python"
  }
 },
 "nbformat": 4,
 "nbformat_minor": 2
}
