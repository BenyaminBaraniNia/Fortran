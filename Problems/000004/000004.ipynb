{
 "cells": [
  {
   "cell_type": "markdown",
   "metadata": {},
   "source": [
    "**🖥️ Problem 4: Fahrenheit to Celsius** \n",
    "\n",
    "**📋 Description:** Write a program to convert Fahrenheit to Celsius.\n",
    "\n",
    "**💡 Solution**\n",
    "```Fortran\n",
    "program FahrenheitToCelsius\n",
    "  implicit none\n",
    "  real :: fahrenheit, celsius\n",
    "  print *, 'Enter temperature in Fahrenheit:'\n",
    "  read *, fahrenheit\n",
    "  celsius = (fahrenheit - 32) * 5.0 / 9.0\n",
    "  print *, 'Temperature in Celsius = ', celsius\n",
    "end program FahrenheitToCelsius\n",
    "```"
   ]
  }
 ],
 "metadata": {
  "language_info": {
   "name": "python"
  }
 },
 "nbformat": 4,
 "nbformat_minor": 2
}
